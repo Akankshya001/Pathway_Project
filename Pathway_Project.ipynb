{
  "cells": [
    {
      "cell_type": "code",
      "execution_count": null,
      "metadata": {
        "id": "LlwkKnB50IGF"
      },
      "outputs": [],
      "source": [
        "!pip install pathway bokeh --quiet # This cell may take a few seconds to execute."
      ]
    },
    {
      "cell_type": "code",
      "execution_count": null,
      "metadata": {
        "id": "pHuc1nkJveN3"
      },
      "outputs": [],
      "source": [
        "import numpy as np\n",
        "import pandas as pd\n",
        "import matplotlib.pyplot as plt\n",
        "import datetime\n",
        "from datetime import datetime\n",
        "import pathway as pw\n",
        "import bokeh.plotting\n",
        "import panel as pn"
      ]
    },
    {
      "cell_type": "markdown",
      "metadata": {
        "id": "gGpZl1FxjFXE"
      },
      "source": [
        "# Step 1: Importing and Preprocessing the Data"
      ]
    },
    {
      "cell_type": "code",
      "execution_count": null,
      "metadata": {
        "id": "4D6geoV9veN3"
      },
      "outputs": [],
      "source": [
        "df = pd.read_csv('dataset.csv')\n",
        "df"
      ]
    },
    {
      "cell_type": "code",
      "source": [
        "df[['SystemCodeNumber', 'Capacity', 'Latitude', 'Longitude']].drop_duplicates()"
      ],
      "metadata": {
        "id": "ych2hYkQQELn"
      },
      "execution_count": null,
      "outputs": []
    },
    {
      "cell_type": "code",
      "source": [
        "df['SystemCodeNumber'].nunique()"
      ],
      "metadata": {
        "id": "l1VS1IKMN9oK"
      },
      "execution_count": null,
      "outputs": []
    },
    {
      "cell_type": "code",
      "source": [
        "df.groupby('SystemCodeNumber')[['Capacity','Occupancy','QueueLength']].agg(['min','max','mean'])"
      ],
      "metadata": {
        "id": "bCNzakmRQPYs"
      },
      "execution_count": null,
      "outputs": []
    },
    {
      "cell_type": "markdown",
      "source": [
        "Maximum occupancy is more than capacity in some cases which may cause a problem"
      ],
      "metadata": {
        "id": "dckLfO1FRjRj"
      }
    },
    {
      "cell_type": "code",
      "source": [
        "demand_fluctuation=((df.groupby('SystemCodeNumber')['Occupancy'].max()-df.groupby('SystemCodeNumber')['Occupancy'].min())/df.groupby('SystemCodeNumber')['Capacity'].max())\n",
        "demand_fluctuation"
      ],
      "metadata": {
        "id": "E_v49giOQXlj"
      },
      "execution_count": null,
      "outputs": []
    },
    {
      "cell_type": "markdown",
      "source": [
        "Since the (demand fluctuation)/capacity of each parking space is less than 1, the weight (alpha) for it can be set to 1."
      ],
      "metadata": {
        "id": "sDo4amnRQa2Z"
      }
    },
    {
      "cell_type": "code",
      "source": [
        "TRAFFIC_ENCODING = {'low': 0, 'average': 0.5, 'high': 1}\n",
        "df['TrafficConditionNearby'] = df['TrafficConditionNearby'].apply(lambda x: TRAFFIC_ENCODING.get(x))"
      ],
      "metadata": {
        "id": "77dtjYh6Qk_p"
      },
      "execution_count": null,
      "outputs": []
    },
    {
      "cell_type": "code",
      "source": [
        "VEHICLE_TYPE_WEIGHT = {'cycle': 0.4, 'bike': 0.7, 'car': 1, 'truck': 1.5}\n",
        "df['VehicleType'] = df['VehicleType'].apply(lambda x: VEHICLE_TYPE_WEIGHT.get(x, 1))"
      ],
      "metadata": {
        "id": "JSjGBgsWQmSc"
      },
      "execution_count": null,
      "outputs": []
    },
    {
      "cell_type": "code",
      "execution_count": null,
      "metadata": {
        "id": "QBrvlQTjveN4"
      },
      "outputs": [],
      "source": [
        "# Combine the 'LastUpdatedDate' and 'LastUpdatedTime' columns into a single datetime column\n",
        "df['Timestamp'] = pd.to_datetime(df['LastUpdatedDate'] + ' ' + df['LastUpdatedTime'],\n",
        "                                  format='%d-%m-%Y %H:%M:%S')\n",
        "\n",
        "# Sort the DataFrame by the new 'Timestamp' column and reset the index\n",
        "df = df.sort_values('Timestamp').reset_index(drop=True)"
      ]
    },
    {
      "cell_type": "code",
      "execution_count": null,
      "metadata": {
        "id": "c52UkGGpveN5"
      },
      "outputs": [],
      "source": [
        "df[['Timestamp', 'SystemCodeNumber' , 'Capacity', 'Occupancy', 'VehicleType', 'TrafficConditionNearby', 'QueueLength',\n",
        "       'IsSpecialDay']].to_csv(\"parking_stream.csv\", index=False)"
      ]
    },
    {
      "cell_type": "code",
      "execution_count": null,
      "metadata": {
        "id": "H0pe3TGIyKJE"
      },
      "outputs": [],
      "source": [
        "class ParkingSchema(pw.Schema):\n",
        "    Timestamp: str\n",
        "    SystemCodeNumber: str\n",
        "    Capacity: int\n",
        "    Occupancy: int\n",
        "    VehicleType: float\n",
        "    TrafficConditionNearby: float\n",
        "    QueueLength: int\n",
        "    IsSpecialDay: int"
      ]
    },
    {
      "cell_type": "code",
      "execution_count": null,
      "metadata": {
        "id": "a4LxMh4xziMv"
      },
      "outputs": [],
      "source": [
        "# Load the data as a simulated stream using Pathway's replay_csv function\n",
        "# This replays the CSV data at a controlled input rate to mimic real-time streaming\n",
        "# input_rate=1000 means approximately 1000 rows per second will be ingested into the stream.\n",
        "\n",
        "data = pw.demo.replay_csv(\"parking_stream.csv\", schema=ParkingSchema, input_rate=1000)"
      ]
    },
    {
      "cell_type": "code",
      "execution_count": null,
      "metadata": {
        "id": "IkBP_AA-zjec"
      },
      "outputs": [],
      "source": [
        "# Define the datetime format to parse the 'Timestamp' column\n",
        "fmt = \"%Y-%m-%d %H:%M:%S\"\n",
        "\n",
        "# Add new columns to the data stream:\n",
        "# - 't' contains the parsed full datetime\n",
        "# - 'day' extracts the date part and resets the time to midnight (useful for day-level aggregations)\n",
        "data_with_time = data.with_columns(\n",
        "    t = data.Timestamp.dt.strptime(fmt),\n",
        "    day = data.Timestamp.dt.strptime(fmt).dt.strftime(\"%Y-%m-%dT00:00:00\")\n",
        ")\n"
      ]
    },
    {
      "cell_type": "markdown",
      "metadata": {
        "id": "JNDR7r4DqkhI"
      },
      "source": [
        "# Model 1: Baseline Model"
      ]
    },
    {
      "cell_type": "code",
      "execution_count": null,
      "metadata": {
        "id": "MznsSjanveN5"
      },
      "outputs": [],
      "source": [
        "import datetime\n",
        "BASE_PRICE = 10\n",
        "alpha = 1.0\n",
        "@pw.udf\n",
        "def compute_price_model1(occupancy, capacity):\n",
        "    if capacity > 0:\n",
        "        occ_rate = occupancy / capacity\n",
        "    else:\n",
        "        occ_rate = 0\n",
        "    price = BASE_PRICE + alpha * occ_rate * BASE_PRICE\n",
        "    return max(5, min(price, 20))\n",
        "\n",
        "delta_window_model1 = (\n",
        "    data_with_time.windowby(\n",
        "        pw.this.t,\n",
        "        instance=pw.this.SystemCodeNumber,\n",
        "        window=pw.temporal.tumbling(datetime.timedelta(days=1)),\n",
        "        behavior=pw.temporal.exactly_once_behavior(),\n",
        "    )\n",
        "    .reduce(\n",
        "        t=pw.this._pw_window_end,\n",
        "        lot_id=pw.reducers.any(pw.this.SystemCodeNumber),\n",
        "        occ_max=pw.reducers.max(pw.this.Occupancy),\n",
        "        cap=pw.reducers.max(pw.this.Capacity),\n",
        "    )\n",
        "    .with_columns(\n",
        "        price=compute_price_model1(\n",
        "            occupancy=pw.this.occ_max,\n",
        "            capacity=pw.this.cap\n",
        "            )\n",
        "    ))\n"
      ]
    },
    {
      "cell_type": "markdown",
      "metadata": {
        "id": "2lw5ZGabZWeO"
      },
      "source": [
        "# Model 2: Demand-Based Price Function\n"
      ]
    },
    {
      "cell_type": "code",
      "source": [
        "import pathway as pw\n",
        "import datetime\n",
        "\n",
        "BASE_PRICE = 10\n",
        "weight_occupancy = 1.0\n",
        "weight_queue = 0.5\n",
        "weight_traffic = 0.7\n",
        "weight_special = 0.5\n",
        "weight_vehicle = 0.8\n",
        "\n",
        "def compute_demand(occupancy, capacity, queue, traffic, special, vtype):\n",
        "    if capacity > 0:\n",
        "        occ_rate = occupancy / capacity\n",
        "    else:\n",
        "        occ_rate = 0\n",
        "    demand = (\n",
        "        weight_occupancy * occ_rate\n",
        "        + weight_queue * queue\n",
        "        - weight_traffic * traffic\n",
        "        + weight_special * special\n",
        "        + weight_vehicle * vtype\n",
        "    )\n",
        "    return demand\n",
        "\n",
        "def normalize_demand(demand, min_d=0, max_d=5):\n",
        "    demand = max(min(demand, max_d), min_d)\n",
        "    return (demand - min_d) / (max_d - min_d)\n",
        "\n",
        "@pw.udf\n",
        "def compute_price_model2(occupancy, capacity, queue, traffic, special, vtype):\n",
        "    demand = compute_demand(occupancy, capacity, queue, traffic, special, vtype)\n",
        "    norm_d = normalize_demand(demand)\n",
        "    price = BASE_PRICE * (1 + norm_d)\n",
        "    return max(5, min(price, 20))\n",
        "\n",
        "delta_window_model2 = (\n",
        "    data_with_time.windowby(\n",
        "        pw.this.t,\n",
        "        instance=pw.this.SystemCodeNumber,\n",
        "        window=pw.temporal.tumbling(datetime.timedelta(days=1)),\n",
        "        behavior=pw.temporal.exactly_once_behavior(),\n",
        "    )\n",
        "    .reduce(\n",
        "        t=pw.this._pw_window_end,\n",
        "        lot_id=pw.reducers.any(pw.this.SystemCodeNumber),\n",
        "        occ=pw.reducers.max(pw.this.Occupancy),\n",
        "        cap=pw.reducers.max(pw.this.Capacity),\n",
        "        queue=pw.reducers.max(pw.this.QueueLength),\n",
        "        traffic=pw.reducers.max(pw.this.TrafficConditionNearby),\n",
        "        special=pw.reducers.max(pw.this.IsSpecialDay),\n",
        "        vtype=pw.reducers.max(pw.this.VehicleType),\n",
        "    )\n",
        "    .with_columns(\n",
        "        price=compute_price_model2(\n",
        "            pw.this.occ,\n",
        "            pw.this.cap,\n",
        "            pw.this.queue,\n",
        "            pw.this.traffic,\n",
        "            pw.this.special,\n",
        "            pw.this.vtype,\n",
        "        )\n",
        "    )\n",
        ")"
      ],
      "metadata": {
        "id": "mE0k211AB-T_"
      },
      "execution_count": null,
      "outputs": []
    },
    {
      "cell_type": "markdown",
      "metadata": {
        "id": "E3sMSFtUqvax"
      },
      "source": [
        "# Visualising Using Bokeh"
      ]
    },
    {
      "cell_type": "code",
      "source": [
        "from bokeh.palettes import Category20\n",
        "\n",
        "def price_plotter(source):\n",
        "    fig = bokeh.plotting.figure(\n",
        "        height=400,\n",
        "        width=800,\n",
        "        title=\"Daily Parking Price\",\n",
        "        x_axis_type=\"datetime\",\n",
        "        x_axis_label=\"Time\",\n",
        "        y_axis_label=\"Price ($)\"\n",
        "    )\n",
        "    # Plot a line graph showing how the price evolves over time\n",
        "    fig.line(\"t\", \"price\", source=source, line_width=2, color=\"navy\")\n",
        "\n",
        "    # Overlay red circles at each data point for better visibility\n",
        "    fig.circle(\"t\", \"price\", source=source, size=6, color=\"red\")\n",
        "\n",
        "    return fig\n"
      ],
      "metadata": {
        "id": "5b52Qd_-dKk0"
      },
      "execution_count": null,
      "outputs": []
    },
    {
      "cell_type": "code",
      "source": [
        "# Use Pathway's built-in visualization module to visualize the tables\n",
        "viz = delta_window_model1.plot(price_plotter, sorting_col=\"t\")\n",
        "viz2= delta_window_model2.plot(price_plotter, sorting_col=\"t\")\n",
        "# Create a Panel layout and make it servable as a web app\n",
        "pn.Column(viz,viz2).servable()"
      ],
      "metadata": {
        "id": "V3abFi0gxbKf"
      },
      "execution_count": null,
      "outputs": []
    },
    {
      "cell_type": "code",
      "execution_count": null,
      "metadata": {
        "id": "0IHWGcX6veN6"
      },
      "outputs": [],
      "source": [
        "# Start the Pathway pipeline execution in the background\n",
        "# - This triggers the real-time data stream processing defined above\n",
        "# - %%capture --no-display suppresses output in the notebook interface\n",
        "\n",
        "%%capture --no-display\n",
        "pw.run()"
      ]
    },
    {
      "cell_type": "code",
      "source": [],
      "metadata": {
        "id": "pPfqbGiwcnf-"
      },
      "execution_count": null,
      "outputs": []
    }
  ],
  "metadata": {
    "colab": {
      "provenance": []
    },
    "kaggle": {
      "accelerator": "none",
      "dataSources": [
        {
          "datasetId": 7749157,
          "sourceId": 12294858,
          "sourceType": "datasetVersion"
        }
      ],
      "dockerImageVersionId": 31040,
      "isGpuEnabled": false,
      "isInternetEnabled": true,
      "language": "python",
      "sourceType": "notebook"
    },
    "kernelspec": {
      "display_name": "Python 3",
      "language": "python",
      "name": "python3"
    },
    "language_info": {
      "codemirror_mode": {
        "name": "ipython",
        "version": 3
      },
      "file_extension": ".py",
      "mimetype": "text/x-python",
      "name": "python",
      "nbconvert_exporter": "python",
      "pygments_lexer": "ipython3",
      "version": "3.11.11"
    }
  },
  "nbformat": 4,
  "nbformat_minor": 0
}